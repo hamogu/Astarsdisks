{
 "cells": [
  {
   "cell_type": "code",
   "execution_count": null,
   "metadata": {},
   "outputs": [],
   "source": [
    "import astropy.units as u\n",
    "from astropy.table import Table\n",
    "from astropy import table\n",
    "from astropy.coordinates import SkyCoord, Distance\n",
    "from astropy.time import Time\n",
    "\n",
    "from astroquery.simbad import Simbad"
   ]
  },
  {
   "cell_type": "code",
   "execution_count": null,
   "metadata": {},
   "outputs": [],
   "source": [
    "names = Table.read('targetnames.txt', format='ascii.no_header', delimiter='|', names=['target'])"
   ]
  },
  {
   "cell_type": "code",
   "execution_count": null,
   "metadata": {},
   "outputs": [],
   "source": [
    "TargetSimbad = Simbad()\n",
    "TargetSimbad.add_votable_fields('propermotions', 'distance', 'parallax', 'flux(B)', 'flux(V)', 'rv_value', 'sp')\n",
    "TargetSimbad.add_votable_fields('ra(2;A;ICRS;J2000;2000)', 'dec(2;D;ICRS;J2000;2000)')"
   ]
  },
  {
   "cell_type": "code",
   "execution_count": null,
   "metadata": {},
   "outputs": [],
   "source": [
    "targets = TargetSimbad.query_objects(names['target'])"
   ]
  },
  {
   "cell_type": "code",
   "execution_count": null,
   "metadata": {},
   "outputs": [],
   "source": [
    "targets = table.hstack([names, targets], join_type='exact')"
   ]
  },
  {
   "cell_type": "code",
   "execution_count": null,
   "metadata": {},
   "outputs": [],
   "source": [
    "targets['Distance_distance'].unit = u.pc"
   ]
  },
  {
   "cell_type": "code",
   "execution_count": null,
   "metadata": {},
   "outputs": [],
   "source": [
    "targets['coord'] = SkyCoord(ra=targets['RA_2_A_ICRS_J2000_2000'],\n",
    "                            dec=targets['DEC_2_D_ICRS_J2000_2000'],\n",
    "                            unit=(u.hourangle, u.deg),\n",
    "                            distance=targets['Distance_distance'],\n",
    "                            pm_ra_cosdec=targets['PMRA'],\n",
    "                            pm_dec=targets['PMDEC'],\n",
    "                            frame='icrs', obstime='J2000', equinox='J2000')"
   ]
  },
  {
   "cell_type": "code",
   "execution_count": null,
   "metadata": {},
   "outputs": [],
   "source": [
    "targets.write('targets.fits')"
   ]
  },
  {
   "cell_type": "code",
   "execution_count": null,
   "metadata": {},
   "outputs": [],
   "source": []
  }
 ],
 "metadata": {
  "kernelspec": {
   "display_name": "Python 3",
   "language": "python",
   "name": "python3"
  },
  "language_info": {
   "codemirror_mode": {
    "name": "ipython",
    "version": 3
   },
   "file_extension": ".py",
   "mimetype": "text/x-python",
   "name": "python",
   "nbconvert_exporter": "python",
   "pygments_lexer": "ipython3",
   "version": "3.7.7"
  }
 },
 "nbformat": 4,
 "nbformat_minor": 4
}
