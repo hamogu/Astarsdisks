{
 "cells": [
  {
   "cell_type": "code",
   "execution_count": 1,
   "metadata": {},
   "outputs": [],
   "source": [
    "from contextlib import chdir\n",
    "import os\n",
    "\n",
    "from matplotlib import pylab as plt\n",
    "from matplotlib.ticker import MaxNLocator\n",
    "from astropy.visualization.wcsaxes import SphericalCircle\n",
    "from astropy.table import Table\n",
    "import astropy.units as u\n",
    "from astropy.wcs import WCS\n",
    "from astropy.io import fits\n",
    "import numpy as np\n",
    "\n",
    "\n",
    "from ciao_contrib import runtool as rt\n",
    "\n",
    "\n",
    "import utils\n",
    "import chandra_helpers"
   ]
  },
  {
   "cell_type": "code",
   "execution_count": 3,
   "metadata": {},
   "outputs": [],
   "source": [
    "chandra_helpers.download_repro('data/NGC752/', ['3752'])"
   ]
  },
  {
   "cell_type": "code",
   "execution_count": 7,
   "metadata": {},
   "outputs": [],
   "source": [
    "with chdir('data/NGC752/3752'):\n",
    "    rt.dmcopy(infile=\"repro/acisf03752_repro_evt2.fits[bin x=2700:5700:2,y=1800:5050:2][energy=400:4000]\",\n",
    "              outfile='image.fits', option='image', clobber=True)\n",
    "    rt.mkpsfmap('image.fits', 'psfmap.fits', energy=1.49, ecf=0.393, clobber=True)\n",
    "    rt.wavdetect(infile='image.fits', outfile='source_list.fits', scellfile='source_cell.fits',\n",
    "                 imagefile='image.fits', defnbkgfile='background.fits',\n",
    "                 expfile=None, psffile='psfmap.fits', clobber=True)\n"
   ]
  },
  {
   "cell_type": "code",
   "execution_count": 14,
   "metadata": {},
   "outputs": [
    {
     "data": {
      "text/plain": [
       "'/Users/guenther/mambaforge/envs/ciao-4.16/bin/marx'"
      ]
     },
     "execution_count": 14,
     "metadata": {},
     "output_type": "execute_result"
    }
   ],
   "source": [
    "import shutil\n",
    "shutil.which(\"marx\")"
   ]
  },
  {
   "cell_type": "code",
   "execution_count": 15,
   "metadata": {},
   "outputs": [],
   "source": [
    "\n",
    "os.environ['MARX_ROOT'] = '/Users/guenther/mambaforge/envs/ciao-4.16/'\n"
   ]
  },
  {
   "cell_type": "code",
   "execution_count": 17,
   "metadata": {},
   "outputs": [],
   "source": [
    "with chdir('data/NGC752/3752'):\n",
    "    rt.srcflux(infile=\"repro/acisf03752_repro_evt2.fits\",\n",
    "               pos='source_list.fits',\n",
    "               regions='optimized',\n",
    "               bands='csc',\n",
    "               model='xsapec.apec1',\n",
    "               paramvals=\"apec1.kT=0.5\",               \n",
    "               clobber=True)"
   ]
  },
  {
   "cell_type": "code",
   "execution_count": null,
   "metadata": {},
   "outputs": [],
   "source": []
  }
 ],
 "metadata": {
  "kernelspec": {
   "display_name": "ciao-4.16",
   "language": "python",
   "name": "python3"
  },
  "language_info": {
   "codemirror_mode": {
    "name": "ipython",
    "version": 3
   },
   "file_extension": ".py",
   "mimetype": "text/x-python",
   "name": "python",
   "nbconvert_exporter": "python",
   "pygments_lexer": "ipython3",
   "version": "3.11.6"
  }
 },
 "nbformat": 4,
 "nbformat_minor": 2
}
